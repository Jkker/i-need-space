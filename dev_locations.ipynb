{
  "cells": [
    {
      "cell_type": "code",
      "execution_count": null,
      "metadata": {},
      "outputs": [],
      "source": [
        "import json"
      ]
    },
    {
      "cell_type": "code",
      "execution_count": 6,
      "metadata": {},
      "outputs": [],
      "source": [
        "def get_city_district(address_components):\n",
        "    city, district = None, None\n",
        "    for addr in address_components:\n",
        "        if city is not None and district is not None:\n",
        "            return city, district\n",
        "        if \"locality\" in addr[\"types\"]:\n",
        "            city = addr[\"long_name\"]\n",
        "        if \"sublocality_level_1\" in addr[\"types\"]:\n",
        "            district = addr[\"long_name\"]\n",
        "    \n",
        "    return city, district\n"
      ]
    },
    {
      "cell_type": "code",
      "execution_count": 4,
      "metadata": {},
      "outputs": [],
      "source": [
        "import json\n",
        "import googlemaps\n",
        "from dotenv import load_dotenv\n",
        "from os import getenv\n",
        "from tqdm import tqdm\n",
        "from utils import dump_json\n",
        "\n",
        "\n",
        "load_dotenv()\n",
        "\n",
        "key = getenv('GOOGLE_MAPS_API_KEY')\n",
        "\n",
        "G = googlemaps.Client(key=key)"
      ]
    },
    {
      "cell_type": "code",
      "execution_count": 9,
      "metadata": {},
      "outputs": [
        {
          "name": "stderr",
          "output_type": "stream",
          "text": [
            "100%|██████████| 147/147 [00:15<00:00,  9.55it/s]"
          ]
        },
        {
          "name": "stdout",
          "output_type": "stream",
          "text": [
            "✅ Saved \"./data/places_cache_new.json\"\n"
          ]
        },
        {
          "name": "stderr",
          "output_type": "stream",
          "text": [
            "\n"
          ]
        }
      ],
      "source": [
        "new = {}\n",
        "\n",
        "with open('./data/places_cache.json', 'r') as f:\n",
        "    data = json.load(f)\n",
        "    for key, value in tqdm(data.items()):\n",
        "        # print(key, value)\n",
        "        place = G.place(place_id=value['id'], fields=['address_component', 'url'])\n",
        "        new[key] = value\n",
        "        new[key]['city'], new[key]['district'] = get_city_district(place['result']['address_components'])\n",
        "        new[key]['url'] = place['result']['url']\n",
        "        # break\n",
        "    dump_json(new, './data/places_cache_new.json')"
      ]
    }
  ],
  "metadata": {
    "kernelspec": {
      "display_name": "Python 3.10.6 ('.venv': venv)",
      "language": "python",
      "name": "python3"
    },
    "language_info": {
      "codemirror_mode": {
        "name": "ipython",
        "version": 3
      },
      "file_extension": ".py",
      "mimetype": "text/x-python",
      "name": "python",
      "nbconvert_exporter": "python",
      "pygments_lexer": "ipython3",
      "version": "3.10.6"
    },
    "orig_nbformat": 4,
    "vscode": {
      "interpreter": {
        "hash": "68ca6f8f4d7bb48029c5aa74a11cf74a52d10759fcb7ab9d6f7495d1f69481f5"
      }
    }
  },
  "nbformat": 4,
  "nbformat_minor": 2
}
