{
  "cells": [
    {
      "cell_type": "code",
      "execution_count": 2,
      "metadata": {},
      "outputs": [],
      "source": [
        "import json\n",
        "from utils import dump_json\n",
        "import json\n",
        "import googlemaps\n",
        "from dotenv import load_dotenv\n",
        "from os import getenv\n",
        "from tqdm import tqdm\n"
      ]
    },
    {
      "cell_type": "code",
      "execution_count": null,
      "metadata": {},
      "outputs": [],
      "source": [
        "def get_city_district(address_components):\n",
        "    city, district = None, None\n",
        "    for addr in address_components:\n",
        "        if city is not None and district is not None:\n",
        "            return city, district\n",
        "        if \"locality\" in addr[\"types\"]:\n",
        "            city = addr[\"long_name\"]\n",
        "        if \"sublocality_level_1\" in addr[\"types\"]:\n",
        "            district = addr[\"long_name\"]\n",
        "    \n",
        "    return city, district\n"
      ]
    },
    {
      "cell_type": "code",
      "execution_count": 6,
      "metadata": {},
      "outputs": [
        {
          "name": "stderr",
          "output_type": "stream",
          "text": [
            "100%|██████████| 100/100 [00:00<00:00, 570653.61it/s]"
          ]
        },
        {
          "name": "stdout",
          "output_type": "stream",
          "text": [
            "✅ Saved \"./data/location_list.json\"\n"
          ]
        },
        {
          "name": "stderr",
          "output_type": "stream",
          "text": [
            "\n"
          ]
        }
      ],
      "source": [
        "location_map = {}\n",
        "city = {}\n",
        "\n",
        "with open('./data/places_cache_new.json', 'r') as f:\n",
        "    data = json.load(f)\n",
        "    for key, value in tqdm(data.items()):\n",
        "        location = value['borough'] or value['city']\n",
        "\n",
        "        if not location in location_map:\n",
        "            location_map[location] = [key]\n",
        "        else:\n",
        "            location_map[location].append(key)\n",
        "\n",
        "\n",
        "dump_json(location_map, './data/location_list.json')\n"
      ]
    },
    {
      "cell_type": "code",
      "execution_count": 17,
      "metadata": {},
      "outputs": [
        {
          "name": "stdout",
          "output_type": "stream",
          "text": [
            "['Washington Square', 'Dental Center', 'Brooklyn Campus', 'Off Campus', 'Online', 'Distance Learning/Synchronous', 'Distance Learning/Asynchronous', 'Midtown Center', 'Woolworth Bldg.-15 Barclay St', 'Abu Dhabi', 'Hosp. for Joint Diseases', 'Medical Center', 'Inst. of Fine Arts', 'NYU Abu Dhabi (Global)', 'Shanghai', 'Distance Ed (Learning Space)', 'London (TSOA)', 'NYU New York (Global)', 'ePoly', 'St. Thomas Aquinas College', 'Sarah Lawrence']\n"
          ]
        }
      ],
      "source": [
        "with open('data/2022fa.json', 'r') as f:\n",
        "    campus = []\n",
        "    data = json.load(f)\n",
        "    for d in data:\n",
        "        for section in d['sections']:\n",
        "            if section.get('campus') in campus:\n",
        "                continue\n",
        "            campus.append(section.get('campus'))\n",
        "\n",
        "    print(campus)"
      ]
    }
  ],
  "metadata": {
    "kernelspec": {
      "display_name": "Python 3.10.6 ('.venv': venv)",
      "language": "python",
      "name": "python3"
    },
    "language_info": {
      "codemirror_mode": {
        "name": "ipython",
        "version": 3
      },
      "file_extension": ".py",
      "mimetype": "text/x-python",
      "name": "python",
      "nbconvert_exporter": "python",
      "pygments_lexer": "ipython3",
      "version": "3.10.6"
    },
    "orig_nbformat": 4,
    "vscode": {
      "interpreter": {
        "hash": "68ca6f8f4d7bb48029c5aa74a11cf74a52d10759fcb7ab9d6f7495d1f69481f5"
      }
    }
  },
  "nbformat": 4,
  "nbformat_minor": 2
}
