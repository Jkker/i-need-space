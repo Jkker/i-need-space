{
  "cells": [
    {
      "cell_type": "code",
      "execution_count": 2,
      "metadata": {},
      "outputs": [],
      "source": [
        "import json\n",
        "from utils import dump_json\n",
        "import json\n",
        "import googlemaps\n",
        "from dotenv import load_dotenv\n",
        "from os import getenv\n",
        "from tqdm import tqdm\n"
      ]
    },
    {
      "cell_type": "code",
      "execution_count": 6,
      "metadata": {},
      "outputs": [],
      "source": [
        "def get_city_district(address_components):\n",
        "    city, district = None, None\n",
        "    for addr in address_components:\n",
        "        if city is not None and district is not None:\n",
        "            return city, district\n",
        "        if \"locality\" in addr[\"types\"]:\n",
        "            city = addr[\"long_name\"]\n",
        "        if \"sublocality_level_1\" in addr[\"types\"]:\n",
        "            district = addr[\"long_name\"]\n",
        "    \n",
        "    return city, district\n"
      ]
    },
    {
      "cell_type": "code",
      "execution_count": 4,
      "metadata": {},
      "outputs": [],
      "source": []
    },
    {
      "cell_type": "code",
      "execution_count": 6,
      "metadata": {},
      "outputs": [
        {
          "name": "stderr",
          "output_type": "stream",
          "text": [
            "100%|██████████| 147/147 [00:00<00:00, 482443.42it/s]"
          ]
        },
        {
          "name": "stdout",
          "output_type": "stream",
          "text": [
            "✅ Saved \"./data/location_map.json\"\n"
          ]
        },
        {
          "name": "stderr",
          "output_type": "stream",
          "text": [
            "\n"
          ]
        }
      ],
      "source": [
        "location_map = {}\n",
        "city = {}\n",
        "\n",
        "with open('./data/places_cache.json', 'r') as f:\n",
        "    data = json.load(f)\n",
        "    for key, value in tqdm(data.items()):\n",
        "        location = value['district'] or value['city']\n",
        "\n",
        "        if not location in location_map:\n",
        "            location_map[location] = [key]\n",
        "        else:\n",
        "            location_map[location].append(key)\n",
        "\n",
        "\n",
        "dump_json(location_map, './data/location_map.json')\n"
      ]
    }
  ],
  "metadata": {
    "kernelspec": {
      "display_name": "Python 3.10.6 ('.venv': venv)",
      "language": "python",
      "name": "python3"
    },
    "language_info": {
      "codemirror_mode": {
        "name": "ipython",
        "version": 3
      },
      "file_extension": ".py",
      "mimetype": "text/x-python",
      "name": "python",
      "nbconvert_exporter": "python",
      "pygments_lexer": "ipython3",
      "version": "3.10.6"
    },
    "orig_nbformat": 4,
    "vscode": {
      "interpreter": {
        "hash": "68ca6f8f4d7bb48029c5aa74a11cf74a52d10759fcb7ab9d6f7495d1f69481f5"
      }
    }
  },
  "nbformat": 4,
  "nbformat_minor": 2
}
