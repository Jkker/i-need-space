{
 "cells": [
  {
   "cell_type": "code",
   "execution_count": 120,
   "metadata": {},
   "outputs": [],
   "source": [
    "import json\n",
    "import re\n",
    "from datetime import datetime, timedelta\n",
    "from collections import defaultdict\n"
   ]
  },
  {
   "cell_type": "code",
   "execution_count": 121,
   "metadata": {},
   "outputs": [],
   "source": [
    "filename = './data/2022sp-UA_GA.json'"
   ]
  },
  {
   "cell_type": "code",
   "execution_count": 123,
   "metadata": {},
   "outputs": [],
   "source": [
    "def course_id(c, section_code='000'):\n",
    "    return f\"{c['subjectCode']['code']}-{c['subjectCode']['school']} {c['deptCourseId']}-{section_code}\""
   ]
  },
  {
   "cell_type": "code",
   "execution_count": 124,
   "metadata": {},
   "outputs": [],
   "source": [
    "def p(s):\n",
    "    print(json.dumps(s, indent=2))"
   ]
  },
  {
   "cell_type": "code",
   "execution_count": 125,
   "metadata": {},
   "outputs": [],
   "source": [
    "INVALID_LOCATIONS = ['No', 'TBA', 'Online']\n",
    "\n",
    "\n",
    "def recursively_default_dict():\n",
    "    return defaultdict(recursively_default_dict)\n",
    "\n",
    "\n",
    "def parse_meeting(meeting):\n",
    "    start = datetime.strptime(meeting['beginDate'], '%Y-%m-%d %H:%M:%S')\n",
    "    end = start + timedelta(minutes=meeting['minutesDuration'])\n",
    "    weekday = start.weekday()\n",
    "    # return weekday, start.strftime('%Y-%m-%d %H:%M:%S'), end.strftime('%Y-%m-%d %H:%M:%S')\n",
    "    return weekday, start.strftime('%H:%M'), end.strftime('%H:%M')\n",
    "\n",
    "def parse_location(location):\n",
    "    loc_list = re.split(r'room\\:?\\s*|rm[:\\s]|,\\s*|\\s\\(',\n",
    "                        location,\n",
    "                        flags=re.IGNORECASE)\n",
    "    building = loc_list[0].split('-')[0].replace('Bldg:', '').strip()\n",
    "    room = loc_list[-1].strip()\n",
    "    return building, room\n",
    "\n",
    "\n",
    "def add_to_schedule(schedule, location, meetings):\n",
    "    building, room = parse_location(location)\n",
    "    if meetings and not (building in INVALID_LOCATIONS):\n",
    "        for meeting in meetings:\n",
    "            weekday, start, end = parse_meeting(meeting)\n",
    "            schedule[building][room][weekday] = [\n",
    "                *schedule[building][room][weekday], (start, end)\n",
    "            ] if schedule[building][room].get(weekday) else [(start, end)]\n",
    "\n",
    "\n",
    "def create_schedule(data):\n",
    "    schedule = recursively_default_dict()\n",
    "    for course in data:\n",
    "        for session in course['sections']:\n",
    "            add_to_schedule(schedule, session['location'], session['meetings'])\n",
    "            if not session.get('recitations'): continue\n",
    "            for recitation in session['recitations']:\n",
    "                add_to_schedule(schedule, recitation['location'], recitation['meetings'])\n",
    "    return schedule\n",
    "\n",
    "def get_time_slots(times, start=\"08:00\", end=\"22:00\"):\n",
    "    sorted_times = sorted(times, key=lambda x: x[0])\n",
    "    time_slots = []\n",
    "    if start < sorted_times[0][0]:\n",
    "        time_slots.append((start, sorted_times[0][0]))\n",
    "    for i in range(len(sorted_times)-1):\n",
    "        time_slots.append((sorted_times[i][1],\n",
    "                           sorted_times[i+1][0]))\n",
    "    if end > sorted_times[-1][1]:\n",
    "        time_slots.append((sorted_times[-1][1], end))\n",
    "    return time_slots\n",
    "\n",
    "\n",
    "def main(start=\"08:00\", end=\"22:00\"):\n",
    "    with open(filename) as data_file:\n",
    "        data = json.load(data_file)\n",
    "        schedule = create_schedule(data)\n",
    "        availabilities = recursively_default_dict()\n",
    "        for building, rooms in schedule.items():\n",
    "            for room, week in rooms.items():\n",
    "                for weekday in range(7):\n",
    "                    if weekday in week:\n",
    "                        time_slots = get_time_slots(week[weekday], start, end)\n",
    "                    else:\n",
    "                        time_slots = [(start, end)]\n",
    "                    availabilities[building][room][weekday] = time_slots\n",
    "        return schedule, availabilities\n"
   ]
  },
  {
   "cell_type": "code",
   "execution_count": 128,
   "metadata": {},
   "outputs": [],
   "source": [
    "schedule, availabilities = main()\n",
    "with open('schedule.json', 'w') as outfile:\n",
    "    json.dump(schedule, outfile, indent=2)\n",
    "with open('availabilities.json', 'w') as outfile:\n",
    "    json.dump(availabilities, outfile, indent=2)"
   ]
  }
 ],
 "metadata": {
  "interpreter": {
   "hash": "85362fc37819cfb3fba4550f26bd01c02feeeb883abfc9cda28a78cb78c6da47"
  },
  "kernelspec": {
   "display_name": "Python 3.9.7 ('scraping')",
   "language": "python",
   "name": "python3"
  },
  "language_info": {
   "codemirror_mode": {
    "name": "ipython",
    "version": 3
   },
   "file_extension": ".py",
   "mimetype": "text/x-python",
   "name": "python",
   "nbconvert_exporter": "python",
   "pygments_lexer": "ipython3",
   "version": "3.9.7"
  },
  "orig_nbformat": 4
 },
 "nbformat": 4,
 "nbformat_minor": 2
}
