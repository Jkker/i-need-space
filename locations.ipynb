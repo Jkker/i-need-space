{
 "cells": [
  {
   "cell_type": "code",
   "execution_count": 4,
   "metadata": {},
   "outputs": [],
   "source": [
    "import requests\n",
    "from bs4 import BeautifulSoup\n",
    "import json\n",
    "\n",
    "url = \"https://www.nyu.edu/students/student-information-and-resources/registration-records-and-graduation/registration/classroom-locations.html\"\n"
   ]
  },
  {
   "cell_type": "code",
   "execution_count": 26,
   "metadata": {},
   "outputs": [],
   "source": [
    "def main():\n",
    "    res = requests.get(url)\n",
    "    soup = BeautifulSoup(res.text, 'html.parser')\n",
    "    tables = soup.find_all('table')\n",
    "    d = {}\n",
    "    for table in tables[1:]:\n",
    "        table_data = []\n",
    "        for row in table.find_all(\"tr\"):\n",
    "            if row(\"td\"):\n",
    "                table_data.append([cell.text.strip() for cell in row(\"td\")])\n",
    "        d  = {**d, **dict(table_data)}\n",
    "\n",
    "    with open(\"locations.json\", \"w\") as f:\n",
    "        json.dump(d, f, indent=4)\n",
    "\n",
    "if __name__ == \"__main__\":\n",
    "    main()"
   ]
  },
  {
   "cell_type": "code",
   "execution_count": 6,
   "metadata": {},
   "outputs": [
    {
     "name": "stdout",
     "output_type": "stream",
     "text": [
      "Replaced EDUC with Education Building\n",
      "\n",
      "Found 150 locations\n",
      "\n",
      "Replaced MIDC with NYU Midtown Center\n",
      "\n",
      "Replaced ARC with Academic Resource Center / 18 Washington Place\n",
      "\n",
      "Replaced GCASL with Global Center for Academic & Spiritual Life / 238 Thompson Street\n",
      "\n",
      "Saved \"out/Schedule-2022sp.json\"\n",
      "\n",
      "Saved \"out/Slots-2022sp.json\"\n",
      "\n",
      "Replaced KIMM with Helen and Martin Kimmel University Center, 60 Washington Sq South\n",
      "\n",
      "Replaced TBA with To Be Arranged\n",
      "\n"
     ]
    }
   ],
   "source": [
    "with open('t.txt' , 'r') as f:\n",
    "    s = set()\n",
    "    for line in f.readlines():\n",
    "        s.add(line)\n",
    "    for i in s:\n",
    "        print(i)\n",
    "    # print(f.text())"
   ]
  }
 ],
 "metadata": {
  "interpreter": {
   "hash": "85362fc37819cfb3fba4550f26bd01c02feeeb883abfc9cda28a78cb78c6da47"
  },
  "kernelspec": {
   "display_name": "Python 3.9.7 ('scraping')",
   "language": "python",
   "name": "python3"
  },
  "language_info": {
   "codemirror_mode": {
    "name": "ipython",
    "version": 3
   },
   "file_extension": ".py",
   "mimetype": "text/x-python",
   "name": "python",
   "nbconvert_exporter": "python",
   "pygments_lexer": "ipython3",
   "version": "3.9.7"
  },
  "orig_nbformat": 4
 },
 "nbformat": 4,
 "nbformat_minor": 2
}
